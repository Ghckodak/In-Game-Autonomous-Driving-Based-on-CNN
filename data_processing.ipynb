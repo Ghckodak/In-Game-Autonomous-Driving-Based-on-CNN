{
 "cells": [
  {
   "cell_type": "code",
   "execution_count": 25,
   "metadata": {},
   "outputs": [],
   "source": [
    "import cv2\n",
    "import numpy as np\n",
    "import pickle\n",
    "import matplotlib.pyplot as plt"
   ]
  },
  {
   "cell_type": "code",
   "execution_count": 26,
   "metadata": {},
   "outputs": [],
   "source": [
    "file_name = 'training_data.pkl'\n",
    "\n",
    "pickle_file = open(file_name, 'rb')\n",
    "training_data = pickle.load(pickle_file)\n",
    "pickle_file.close()"
   ]
  },
  {
   "cell_type": "code",
   "execution_count": 27,
   "metadata": {},
   "outputs": [],
   "source": [
    "img = []\n",
    "key = []\n",
    "for data in training_data:\n",
    "    img.append(data[0])\n",
    "    key.append(data[1])\n",
    "\n",
    "img = np.array(img)\n",
    "key = np.array(key)\n",
    "\n",
    "hist, bins = np.histogram(key[:,1], 3)\n",
    "center = (bins[:-1] + bins[1:]) * 0.5\n",
    "plt.bar(center, hist, width= 0.05)\n",
    "\n",
    "def img_flip(training_data):\n",
    "    output = training_data  # make a copy\n",
    "    for data in training_data:\n",
    "        if data[1][1]!=0:   # if has steerling control\n",
    "            img_flipped = cv2.flip(data[0], 1)  # flip the img\n",
    "            key_reversed = [data[1][0],-data[1][1]] # reverse the steering input\n",
    "            output.append([img_flipped,key_reversed])\n",
    "        \n",
    "    return output\n",
    "\n",
    "data_processed = img_flip(training_data)\n",
    "\n",
    "img = []\n",
    "key = []\n",
    "for data in data_processed:\n",
    "    img.append(data[0])\n",
    "    key.append(data[1])\n",
    "\n",
    "img = np.array(img)\n",
    "key = np.array(key)\n",
    "\n",
    "hist, bins = np.histogram(key[:,1], 3)\n",
    "center = (bins[:-1] + bins[1:]) * 0.5\n",
    "plt.bar(center, hist, width= 0.05)\n",
    "\n"
   ]
  }
 ],
 "metadata": {
  "interpreter": {
   "hash": "7b4b4feff2f24a0f0a34464dbe537a36fda679851528fb8735cb41fa49dffb2d"
  },
  "kernelspec": {
   "display_name": "Python 3.8.8 64-bit ('base': conda)",
   "language": "python",
   "name": "python3"
  },
  "language_info": {
   "codemirror_mode": {
    "name": "ipython",
    "version": 3
   },
   "file_extension": ".py",
   "mimetype": "text/x-python",
   "name": "python",
   "nbconvert_exporter": "python",
   "pygments_lexer": "ipython3",
   "version": "3.8.8"
  },
  "orig_nbformat": 4
 },
 "nbformat": 4,
 "nbformat_minor": 2
}
