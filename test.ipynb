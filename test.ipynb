{
 "cells": [
  {
   "cell_type": "code",
   "execution_count": 9,
   "metadata": {},
   "outputs": [],
   "source": [
    "import pickle\n",
    "from grabscreen import grab_screen\n",
    "import cv2\n",
    "import time\n",
    "from getkeys import *\n",
    "import os\n",
    "import matplotlib.pyplot as plt"
   ]
  },
  {
   "cell_type": "code",
   "execution_count": 10,
   "metadata": {},
   "outputs": [
    {
     "name": "stdout",
     "output_type": "stream",
     "text": [
      "files exists\n"
     ]
    }
   ],
   "source": [
    "file_name = 'training_data_6.pkl'\n",
    "if os.path.isfile(file_name):\n",
    "    print('files exists')\n",
    "    pickle_file = open(file_name, 'rb')\n",
    "    training_data = pickle.load(pickle_file)\n",
    "    pickle_file.close()\n",
    "else:\n",
    "    print('files does not exists')\n",
    "    training_data = []"
   ]
  },
  {
   "cell_type": "code",
   "execution_count": 11,
   "metadata": {},
   "outputs": [
    {
     "name": "stdout",
     "output_type": "stream",
     "text": [
      "Stopping!\n",
      "already save!\n"
     ]
    }
   ],
   "source": [
    "if __name__ == '__main__':\n",
    "\n",
    "    paused = False\n",
    "\n",
    "    time.sleep(5)\n",
    "\n",
    "    while (True):\n",
    "        if not paused:\n",
    "            screen = grab_screen(region=(500,500,1200,800))\n",
    "            screen = cv2.resize(screen, (350, 150))\n",
    "            \n",
    "            key = key_to_array()\n",
    "            training_data.append([screen, key])\n",
    "            time.sleep(0.1)\n",
    "\n",
    "\n",
    "        key = key_check()\n",
    "        if 'P' in key:\n",
    "            if paused:\n",
    "                paused = False\n",
    "                print('Running!')\n",
    "                time.sleep(1)\n",
    "            else:\n",
    "                print('Stopping!')\n",
    "                paused = True\n",
    "                pickle_file = open(file_name, 'wb')\n",
    "                pickle.dump(training_data, pickle_file)\n",
    "                pickle_file.close()\n",
    "                print('already save!')\n",
    "                break\n",
    "\n"
   ]
  }
 ],
 "metadata": {
  "interpreter": {
   "hash": "7b4b4feff2f24a0f0a34464dbe537a36fda679851528fb8735cb41fa49dffb2d"
  },
  "kernelspec": {
   "display_name": "Python 3.8.8 64-bit ('base': conda)",
   "language": "python",
   "name": "python3"
  },
  "language_info": {
   "codemirror_mode": {
    "name": "ipython",
    "version": 3
   },
   "file_extension": ".py",
   "mimetype": "text/x-python",
   "name": "python",
   "nbconvert_exporter": "python",
   "pygments_lexer": "ipython3",
   "version": "3.8.8"
  },
  "orig_nbformat": 4
 },
 "nbformat": 4,
 "nbformat_minor": 2
}
